{
 "cells": [
  {
   "cell_type": "markdown",
   "metadata": {},
   "source": [
    "# Принципы нашего взаимодействия\n",
    "- Если вам что-то непонятно, это не значит, что вы глупые. Это значит, что я плохо объяснила, поэтому не стесняйтесь задавать вопросы!\n",
    "- Останавливайте меня, если я начинаю злоупотреблять непонятными терминами.\n",
    "- Останавливайте, если я разжёвываю то, что и так понятно.\n",
    "- Нам очевидны совершенно разные вещи!\n",
    "- Подумайте о том, как мой курс может быть полезен лично для вас."
   ]
  },
  {
   "cell_type": "markdown",
   "metadata": {},
   "source": [
    "# Почему Python?\n",
    "- Очень простой синтаксис, а значит он хорош для новичков и НЕ профессионалов.\n",
    "- Если кому-то до вас требовалось написать такую программу, то, скорее всего, это уже часть какой-то библиотеки.\n",
    "### Сравните:\n",
    "\n",
    "\n",
    "- в стиле языков, подобных С:"
   ]
  },
  {
   "cell_type": "code",
   "execution_count": null,
   "metadata": {},
   "outputs": [],
   "source": [
    "numbers = [1, 2, 3]\n",
    "i = 0\n",
    "result = 0\n",
    "while i < len(numbers):\n",
    "    number = numbers[i]\n",
    "    result = result + number*number\n",
    "    i = i + 1\n",
    "print(result)"
   ]
  },
  {
   "cell_type": "markdown",
   "metadata": {},
   "source": [
    "- в стиле Python:"
   ]
  },
  {
   "cell_type": "code",
   "execution_count": null,
   "metadata": {},
   "outputs": [],
   "source": [
    "numbers = [1, 2, 3]\n",
    "result = sum(number*number for number in numbers)\n",
    "print(result)"
   ]
  },
  {
   "cell_type": "markdown",
   "metadata": {},
   "source": [
    "# Из чего состоят программы?\n",
    "\"Части речи\" и \"члены предложения\" программирования)))\n",
    "## Переменные\n",
    "- Имя переменной может состоять из букв, цифр и знаков подчёркивания, но не может начинаться с цифры.\n",
    "- Давайте переменным ЗНАЧИМЫЕ имена! В крайнем случае это первая буква типа значения.\n",
    "- Значимое имя переменной должно быть существительным, например, `name` (исключение - булевы значения, например, `is_first`)\n",
    "\n",
    "##### Соглашения о именовании\n",
    "- camelCase\n",
    "- under_score\n",
    "- PascalCase\n",
    "\n",
    "## Присваивание"
   ]
  },
  {
   "cell_type": "code",
   "execution_count": null,
   "metadata": {
    "collapsed": true
   },
   "outputs": [],
   "source": [
    "a = 1  # Обращайте внимание на подсветку\n",
    "b = 2\n",
    "c = a + b"
   ]
  },
  {
   "cell_type": "code",
   "execution_count": null,
   "metadata": {},
   "outputs": [],
   "source": [
    "a, b = 1, 2\n",
    "a  # Питон автоматически выводит значение выражения в последней строке"
   ]
  },
  {
   "cell_type": "code",
   "execution_count": null,
   "metadata": {},
   "outputs": [],
   "source": [
    "a  # Вся тетрадка представляет собой единую область видимости\n",
    "b  # т.е. переменная, определённая в одной ячейке будет видна в другой\n",
    "a + b # при выключении все переменные стираются из памяти и ячейки надо выполнить вновь."
   ]
  },
  {
   "cell_type": "code",
   "execution_count": null,
   "metadata": {},
   "outputs": [],
   "source": [
    "print(a)\n",
    "print(b)\n",
    "a + b"
   ]
  },
  {
   "cell_type": "markdown",
   "metadata": {},
   "source": [
    "Присваивание - это НЕ равенство и НЕ сравнение"
   ]
  },
  {
   "cell_type": "code",
   "execution_count": null,
   "metadata": {},
   "outputs": [],
   "source": [
    "a == b"
   ]
  },
  {
   "cell_type": "markdown",
   "metadata": {},
   "source": [
    "## Операторы\n",
    "```python\n",
    "+ - / * == < > <= >= != and or **\n",
    "```\n",
    "Всё это и многое другое - операторы"
   ]
  },
  {
   "cell_type": "code",
   "execution_count": null,
   "metadata": {
    "collapsed": true
   },
   "outputs": [],
   "source": [
    "# Создайте две переменных и перемножьте их. Запишите результат в третью переменную. Выведите её на печать.\n",
    "# Придумайте переменным адекватные имена."
   ]
  },
  {
   "cell_type": "markdown",
   "metadata": {},
   "source": [
    "## <font color='blue'>Числа</font>\n",
    "```python\n",
    "18, .3, 0.14, 1., 10000000000\n",
    "```\n",
    "Работая с Python 3 вам не нужно думать о типах чисел! Почти все операции будут выполняться так, как вы ожидаете."
   ]
  },
  {
   "cell_type": "code",
   "execution_count": null,
   "metadata": {},
   "outputs": [],
   "source": [
    "5/2, 2**4000"
   ]
  },
  {
   "cell_type": "markdown",
   "metadata": {},
   "source": [
    "## <font color='blue'>Строки</font>\n",
    "```python\n",
    "\"I'm good!\", 'She said \"Hi!\"'\n",
    "```"
   ]
  },
  {
   "cell_type": "code",
   "execution_count": null,
   "metadata": {},
   "outputs": [],
   "source": [
    "long_string = '''\"When I'M a Duchess,\" she said to herself, (not in a very hopeful tone\n",
    "though), \"I won't have any pepper in my kitchen AT ALL. Soup does very\n",
    "well without--Maybe it's always pepper that makes people hot-tempered,\"...'''\n",
    "long_string"
   ]
  },
  {
   "cell_type": "code",
   "execution_count": null,
   "metadata": {},
   "outputs": [],
   "source": [
    "long_string = \"\"\"\"When I'M a Duchess,\" she said to herself, (not in a very hopeful tone\n",
    "though), \"I won't have any pepper in my kitchen AT ALL. Soup does very\n",
    "well without--Maybe it's always pepper that makes people hot-tempered,\"...\"\"\"\n",
    "long_string"
   ]
  },
  {
   "cell_type": "code",
   "execution_count": null,
   "metadata": {},
   "outputs": [],
   "source": [
    "print(long_string)"
   ]
  },
  {
   "cell_type": "code",
   "execution_count": null,
   "metadata": {
    "collapsed": true
   },
   "outputs": [],
   "source": [
    "# Создайте строковую и целочисленную переменую и перемножьте их. Как вы думаете, что получится?\n",
    "# Запишите результат в третью переменную. Выведите её на печать.\n",
    "# Придумайте переменным адекватные имена."
   ]
  },
  {
   "cell_type": "markdown",
   "metadata": {},
   "source": [
    "В программировании это называется **полиморфизм**: одни и те же операторы ведут себя по-разному, если применяются для объектов разных типов."
   ]
  },
  {
   "cell_type": "markdown",
   "metadata": {},
   "source": [
    "## Встроенные функции\n",
    "\\- это готовые к использованию \"микро-программы\""
   ]
  },
  {
   "cell_type": "code",
   "execution_count": null,
   "metadata": {},
   "outputs": [],
   "source": [
    "print('Hello, world!')\n",
    "len(\"Hi\")"
   ]
  },
  {
   "cell_type": "code",
   "execution_count": null,
   "metadata": {},
   "outputs": [],
   "source": [
    "numbers = [82, 10, 15]\n",
    "sum(numbers), min(numbers), max(numbers)"
   ]
  },
  {
   "cell_type": "code",
   "execution_count": null,
   "metadata": {},
   "outputs": [],
   "source": [
    "sorted(numbers)"
   ]
  },
  {
   "cell_type": "markdown",
   "metadata": {},
   "source": [
    "**Не используйте названия встроенных функций в качестве имени переменной!**"
   ]
  },
  {
   "cell_type": "code",
   "execution_count": null,
   "metadata": {},
   "outputs": [],
   "source": [
    "sum = 0\n",
    "sum = sum + 1\n",
    "sum"
   ]
  },
  {
   "cell_type": "code",
   "execution_count": null,
   "metadata": {},
   "outputs": [],
   "source": [
    "sum += 1 # Сокращённая форма записи\n",
    "sum"
   ]
  },
  {
   "cell_type": "code",
   "execution_count": null,
   "metadata": {},
   "outputs": [],
   "source": [
    "numbers = [10, 15, 82]\n",
    "sum(numbers)"
   ]
  },
  {
   "cell_type": "markdown",
   "metadata": {},
   "source": [
    "Сообщения об ошибках - это важный источник информации. Не надо их пугаться!"
   ]
  },
  {
   "cell_type": "markdown",
   "metadata": {},
   "source": [
    "#### Аргументы (параметры) функций\n",
    "Для того, чтобы вызвать (т.е. выполнить) какую-то функцию, в конце её имени нужно обязательно указать (). Внутри скобок указываются параметры (аргументы) функции. Параметров может и не быть. Тогда скобки будут пустыми."
   ]
  },
  {
   "cell_type": "code",
   "execution_count": null,
   "metadata": {},
   "outputs": [],
   "source": [
    "n, s = 2, 'Привет'\n",
    "print(n)\n",
    "print(n, s)"
   ]
  },
  {
   "cell_type": "code",
   "execution_count": null,
   "metadata": {},
   "outputs": [],
   "source": [
    "print(n, s, sep = '_', end = '\\n***конец***')"
   ]
  },
  {
   "cell_type": "code",
   "execution_count": null,
   "metadata": {
    "collapsed": true
   },
   "outputs": [],
   "source": [
    "print?"
   ]
  },
  {
   "cell_type": "code",
   "execution_count": null,
   "metadata": {},
   "outputs": [],
   "source": [
    "help(print)"
   ]
  },
  {
   "cell_type": "code",
   "execution_count": null,
   "metadata": {},
   "outputs": [],
   "source": [
    "numbers"
   ]
  },
  {
   "cell_type": "code",
   "execution_count": null,
   "metadata": {},
   "outputs": [],
   "source": [
    "sorted(numbers, reverse = True)"
   ]
  },
  {
   "cell_type": "markdown",
   "metadata": {},
   "source": [
    "## Ключевые (зарезервированные) слова\n",
    "\\- это специальные слова, имеющие особое значение, т.е. выполняющие специальные команды.  \n",
    "У каждого ключевого слова есть своё уникальное \"значение\".\n",
    "Такие слова нельзя использовать в качестве имён переменных."
   ]
  },
  {
   "cell_type": "code",
   "execution_count": null,
   "metadata": {},
   "outputs": [],
   "source": [
    "True = 0"
   ]
  },
  {
   "cell_type": "code",
   "execution_count": null,
   "metadata": {},
   "outputs": [],
   "source": [
    "True, False # булевы значения"
   ]
  },
  {
   "cell_type": "code",
   "execution_count": null,
   "metadata": {},
   "outputs": [],
   "source": [
    "'иве' in 'Привет' # Проверка на вхождение"
   ]
  },
  {
   "cell_type": "markdown",
   "metadata": {},
   "source": [
    "# <font color='blue'>Коллекции</font>\n",
    "\\- это объекты, состоящие из множества более мелких объектов.\n",
    "Коллекции делятся на *упорядоченные* и *неупорядоченные*.\n",
    "## <font color='blue'>Последовательности</font> \n",
    "\\- это упорядоченные коллекции.  \n",
    "В питоне есть 3 типа последовательностей: <font color='blue'>строки</font>, <font color='blue'>кортежи</font> и <font color='blue'>списки</font>.  \n",
    "К элементу коллекции всегда можно обратиться по его индексу (номеру).  \n",
    "**Программисты считают с нуля!!!**\n",
    "\n",
    "### <font color='blue'>Cтроки</font> \n",
    "Строка - это последовательность символов."
   ]
  },
  {
   "cell_type": "code",
   "execution_count": null,
   "metadata": {},
   "outputs": [],
   "source": [
    "s = 'Привет'\n",
    "s[0]"
   ]
  },
  {
   "cell_type": "markdown",
   "metadata": {},
   "source": [
    "### Отрицательные индексы и срезы\n",
    "Начало включаем, а конец - нет\n",
    "<img src=\"string-slicing.png\" width=\"900\">"
   ]
  },
  {
   "cell_type": "code",
   "execution_count": null,
   "metadata": {},
   "outputs": [],
   "source": [
    "name = 'Monty Python'\n",
    "first_name = name[:5] # по умолчанию первый элемент - начало строки\n",
    "surname = name[-6:]   # второй - конец строки\n",
    "print(first_name)\n",
    "print(surname)"
   ]
  },
  {
   "cell_type": "code",
   "execution_count": null,
   "metadata": {
    "collapsed": true
   },
   "outputs": [],
   "source": [
    "# Создайте переменную, содержащую строку \"Уральский Федеральный Университет\".\n",
    "# Обратитесь по индексу к начальной букве каждого слова.\n",
    "# Используя срезы, создайте переменные, содержащие все 3 слова."
   ]
  },
  {
   "cell_type": "code",
   "execution_count": null,
   "metadata": {},
   "outputs": [],
   "source": [
    "# Есть третий аргумент - шаг. По умолчанию он равен 1\n",
    "name[::-1]"
   ]
  },
  {
   "cell_type": "code",
   "execution_count": null,
   "metadata": {},
   "outputs": [],
   "source": [
    "name[::2]"
   ]
  },
  {
   "cell_type": "code",
   "execution_count": null,
   "metadata": {},
   "outputs": [],
   "source": [
    "s = 'Привет!'\n",
    "sorted(s)  # Встроенные функции работают с объектами разных типов"
   ]
  },
  {
   "cell_type": "code",
   "execution_count": null,
   "metadata": {},
   "outputs": [],
   "source": [
    "sorted(s, reverse = True)"
   ]
  },
  {
   "cell_type": "markdown",
   "metadata": {},
   "source": [
    "## Методы объектов\n",
    "У каждого типа (класса) объектов есть свои методы, т. е. действия, которые можно с ними выполнять. Наряду с функциями это \"глаголы программирования\"\n",
    "```python\n",
    "<объект>.<имя метода>(<параметры>)\n",
    "```"
   ]
  },
  {
   "cell_type": "code",
   "execution_count": null,
   "metadata": {},
   "outputs": [],
   "source": [
    "s = 'Караганда'\n",
    "s.count('а')"
   ]
  },
  {
   "cell_type": "code",
   "execution_count": null,
   "metadata": {},
   "outputs": [],
   "source": [
    "'Караганда'.endswith('д')"
   ]
  },
  {
   "cell_type": "code",
   "execution_count": null,
   "metadata": {},
   "outputs": [],
   "source": [
    "'Караганда'.startswith('К')"
   ]
  },
  {
   "cell_type": "code",
   "execution_count": null,
   "metadata": {},
   "outputs": [],
   "source": [
    "'Караганда'.isalpha() # .isdigit(), .isalnum(), .isspace()"
   ]
  },
  {
   "cell_type": "code",
   "execution_count": null,
   "metadata": {},
   "outputs": [],
   "source": [
    "'Караганда то'.istitle() # .islower(), .isupper()"
   ]
  },
  {
   "cell_type": "code",
   "execution_count": null,
   "metadata": {},
   "outputs": [],
   "source": [
    "'Караганда'.upper() # .lower(), title(), capitalize(), swapcase()"
   ]
  },
  {
   "cell_type": "code",
   "execution_count": null,
   "metadata": {},
   "outputs": [],
   "source": [
    "'Караганда'.replace('а', '@')"
   ]
  },
  {
   "cell_type": "code",
   "execution_count": null,
   "metadata": {},
   "outputs": [],
   "source": [
    "# Так можно увидеть все методы объекта\\класса\n",
    "dir(str)"
   ]
  },
  {
   "cell_type": "code",
   "execution_count": null,
   "metadata": {
    "collapsed": true
   },
   "outputs": [],
   "source": [
    "s.capitalize?"
   ]
  },
  {
   "cell_type": "code",
   "execution_count": null,
   "metadata": {},
   "outputs": [],
   "source": [
    "sentence = 'Мама мыла раму'\n",
    "sentence.split(' ')"
   ]
  },
  {
   "cell_type": "code",
   "execution_count": null,
   "metadata": {},
   "outputs": [],
   "source": [
    "long_sentence = '''Создайте\\tпеременную, содержащую строку \"Уральский Федеральный Университет\".\n",
    "Обратитесь по индексу к начальной букве каждого слова.\n",
    "Используя срезы, создайте переменные, содержащие все 3 слова.'''\n",
    "print(long_sentence)"
   ]
  },
  {
   "cell_type": "code",
   "execution_count": null,
   "metadata": {},
   "outputs": [],
   "source": [
    "long_sentence.split() # Разбивает по любым пробельным символам (табуляция, перенос строки и т.д.)"
   ]
  },
  {
   "cell_type": "markdown",
   "metadata": {},
   "source": [
    "# Циклы"
   ]
  },
  {
   "cell_type": "code",
   "execution_count": null,
   "metadata": {},
   "outputs": [],
   "source": [
    "s = 'Кракозябра' \n",
    "for ch in s:       # Для каждого элемента коллекции \n",
    "    print(ch)  "
   ]
  },
  {
   "cell_type": "code",
   "execution_count": null,
   "metadata": {
    "collapsed": true
   },
   "outputs": [],
   "source": [
    "# Создайте строку, содержащую предложение \"От топота копыт пыль по полю летит\".\n",
    "# Разбейте его на слова при помощи метода split\n",
    "# Пройдитесь в цикле по всем словам и выведите их на печать"
   ]
  },
  {
   "cell_type": "code",
   "execution_count": null,
   "metadata": {
    "collapsed": true
   },
   "outputs": [],
   "source": [
    "# Теперь выведите на печать только первые буквы каждого слова"
   ]
  },
  {
   "cell_type": "markdown",
   "metadata": {},
   "source": [
    "# Условие"
   ]
  },
  {
   "cell_type": "code",
   "execution_count": null,
   "metadata": {
    "collapsed": true
   },
   "outputs": [],
   "source": [
    "n = 3\n",
    "if n > 0:\n",
    "    print('положительное')"
   ]
  },
  {
   "cell_type": "code",
   "execution_count": null,
   "metadata": {
    "collapsed": true
   },
   "outputs": [],
   "source": [
    "n = 3\n",
    "if n > 0:\n",
    "    print('положительное')\n",
    "else:\n",
    "    print('отрицательное')"
   ]
  },
  {
   "cell_type": "code",
   "execution_count": null,
   "metadata": {},
   "outputs": [],
   "source": [
    "n = 3\n",
    "if n > 0:\n",
    "    print('положительное')\n",
    "elif n == 0:\n",
    "    print('ноль')\n",
    "else:\n",
    "    print('отрицательное')"
   ]
  },
  {
   "cell_type": "code",
   "execution_count": null,
   "metadata": {
    "collapsed": true
   },
   "outputs": [],
   "source": [
    "# Создайте строку, содержащую предложение \"Карл у Клары украл кораллы, а Клара у Карла украла кларнет\".\n",
    "# Разбейте его на слова при помощи метода split\n",
    "# Пройдитесь в цикле по всем словам и выведите на печать только те, которые начинаются с заглавной буквы"
   ]
  },
  {
   "cell_type": "code",
   "execution_count": null,
   "metadata": {
    "collapsed": true
   },
   "outputs": [],
   "source": [
    "# Теперь выведите только те слова, которые начинаются с букв \"к\" и \"К\" "
   ]
  }
 ],
 "metadata": {
  "kernelspec": {
   "display_name": "Python 3",
   "language": "python",
   "name": "python3"
  },
  "language_info": {
   "codemirror_mode": {
    "name": "ipython",
    "version": 3
   },
   "file_extension": ".py",
   "mimetype": "text/x-python",
   "name": "python",
   "nbconvert_exporter": "python",
   "pygments_lexer": "ipython3",
   "version": "3.6.3"
  }
 },
 "nbformat": 4,
 "nbformat_minor": 1
}
