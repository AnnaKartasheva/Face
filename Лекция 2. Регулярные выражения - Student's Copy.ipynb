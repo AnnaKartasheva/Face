{
 "cells": [
  {
   "cell_type": "markdown",
   "metadata": {
    "slideshow": {
     "slide_type": "slide"
    }
   },
   "source": [
    "# Регулярные выражения"
   ]
  },
  {
   "cell_type": "markdown",
   "metadata": {
    "slideshow": {
     "slide_type": "fragment"
    }
   },
   "source": [
    "Это НЕ часть python!"
   ]
  },
  {
   "cell_type": "markdown",
   "metadata": {
    "slideshow": {
     "slide_type": "fragment"
    }
   },
   "source": [
    "Это особый математический аппарат и библиотека, реализующая его.  \n",
    "Регулярные выражения используются для поиска определённых паттернов (шаблонов) в тексте. "
   ]
  },
  {
   "cell_type": "markdown",
   "metadata": {
    "slideshow": {
     "slide_type": "slide"
    }
   },
   "source": [
    "## Обычные символы и специальные символы (метасимволы)"
   ]
  },
  {
   "cell_type": "code",
   "execution_count": null,
   "metadata": {
    "slideshow": {
     "slide_type": "fragment"
    }
   },
   "outputs": [],
   "source": [
    "import re\n",
    "re.findall('Email', 'Email, email, e-mail, E-mail, Email')"
   ]
  },
  {
   "cell_type": "code",
   "execution_count": null,
   "metadata": {
    "slideshow": {
     "slide_type": "fragment"
    }
   },
   "outputs": [],
   "source": [
    "import nltk\n",
    "nltk.re_show('Email', 'Email, email, e-mail, E-mail, Email')"
   ]
  },
  {
   "cell_type": "code",
   "execution_count": null,
   "metadata": {
    "slideshow": {
     "slide_type": "fragment"
    }
   },
   "outputs": [],
   "source": [
    "# или\n",
    "nltk.re_show('Email|email', 'Email, email, e-mail, E-mail, Email') "
   ]
  },
  {
   "cell_type": "markdown",
   "metadata": {
    "slideshow": {
     "slide_type": "slide"
    }
   },
   "source": [
    "^ - символ начала строки  \n",
    "$ - символ конца строки"
   ]
  },
  {
   "cell_type": "code",
   "execution_count": null,
   "metadata": {
    "slideshow": {
     "slide_type": "fragment"
    }
   },
   "outputs": [],
   "source": [
    "nltk.re_show('^Email', 'Email, email, e-mail, E-mail, Email')"
   ]
  },
  {
   "cell_type": "code",
   "execution_count": null,
   "metadata": {
    "slideshow": {
     "slide_type": "fragment"
    }
   },
   "outputs": [],
   "source": [
    "nltk.re_show('Email$', 'Email, email, e-mail, E-mail, Email')"
   ]
  },
  {
   "cell_type": "markdown",
   "metadata": {
    "slideshow": {
     "slide_type": "slide"
    }
   },
   "source": [
    "[aeiou] - любой из перечисленных символов  \n",
    "[^aeiou] - любой символ, кроме перечисленных"
   ]
  },
  {
   "cell_type": "code",
   "execution_count": null,
   "metadata": {
    "slideshow": {
     "slide_type": "fragment"
    }
   },
   "outputs": [],
   "source": [
    "nltk.re_show('[аеиоуюыёяэ]', 'Я люблю питон!')"
   ]
  },
  {
   "cell_type": "code",
   "execution_count": null,
   "metadata": {
    "scrolled": true,
    "slideshow": {
     "slide_type": "fragment"
    }
   },
   "outputs": [],
   "source": [
    "nltk.re_show('[^аеиоуюыёяэ]', 'Я люблю питон!')"
   ]
  },
  {
   "cell_type": "markdown",
   "metadata": {
    "slideshow": {
     "slide_type": "slide"
    }
   },
   "source": [
    "Набор символов можно указать как диапазон:  \n",
    "[A-Za-z] - любой символ латиницы  \n",
    "[^0-9] - любой символ, кроме цифр"
   ]
  },
  {
   "cell_type": "code",
   "execution_count": null,
   "metadata": {
    "slideshow": {
     "slide_type": "fragment"
    }
   },
   "outputs": [],
   "source": [
    "nltk.re_show('[0-9]', '33 коровы, 373 коровы')"
   ]
  },
  {
   "cell_type": "code",
   "execution_count": null,
   "metadata": {
    "slideshow": {
     "slide_type": "fragment"
    }
   },
   "outputs": [],
   "source": [
    "nltk.re_show('[0-9]+', '33 коровы, 373 коровы')"
   ]
  },
  {
   "cell_type": "code",
   "execution_count": null,
   "metadata": {
    "slideshow": {
     "slide_type": "fragment"
    }
   },
   "outputs": [],
   "source": [
    "nltk.re_show('[0-9]*', '33 коровы, 373 коровы')"
   ]
  },
  {
   "cell_type": "code",
   "execution_count": null,
   "metadata": {
    "slideshow": {
     "slide_type": "subslide"
    }
   },
   "outputs": [],
   "source": [
    "nltk.re_show('[а-я]+', '33 коровы, 373 коровы и 5 ёжиков')"
   ]
  },
  {
   "cell_type": "markdown",
   "metadata": {
    "slideshow": {
     "slide_type": "fragment"
    }
   },
   "source": [
    "# `Ё` ***и*** `ё` ***не входят в диапазон!!!***"
   ]
  },
  {
   "cell_type": "code",
   "execution_count": null,
   "metadata": {
    "slideshow": {
     "slide_type": "subslide"
    }
   },
   "outputs": [],
   "source": [
    "nltk.re_show('[а-яё]+', '33 коровы, 373 коровы и 5 ёжиков')"
   ]
  },
  {
   "cell_type": "markdown",
   "metadata": {
    "slideshow": {
     "slide_type": "slide"
    }
   },
   "source": [
    "Квантификаторы:  \n",
    "\\* - предыдущий символ повторяется 0 и более раз (звезда Клини) =={0,}  \n",
    "\\+ - предыдущий символ повторяется 1 и более раз (плюс Клини) =={1,}  \n",
    "? - наличие предыдущего символа необязательно =={0,1}  \n",
    "{n, m} - предыдущий символ повторяется от n до m раз  \n",
    "{n} - предыдущий символ повторяется ровно n раз"
   ]
  },
  {
   "cell_type": "code",
   "execution_count": null,
   "metadata": {
    "slideshow": {
     "slide_type": "subslide"
    }
   },
   "outputs": [],
   "source": [
    "nltk.re_show('не*т', 'нт нет нееееет неееееееееееет!')"
   ]
  },
  {
   "cell_type": "code",
   "execution_count": null,
   "metadata": {
    "slideshow": {
     "slide_type": "fragment"
    }
   },
   "outputs": [],
   "source": [
    "nltk.re_show('не+т', 'нт нет нееееет неееееееееееет!')"
   ]
  },
  {
   "cell_type": "code",
   "execution_count": null,
   "metadata": {
    "slideshow": {
     "slide_type": "subslide"
    }
   },
   "outputs": [],
   "source": [
    "nltk.re_show('не{5}т', 'нт нет нееееет неееееееееееет!')"
   ]
  },
  {
   "cell_type": "code",
   "execution_count": null,
   "metadata": {
    "slideshow": {
     "slide_type": "fragment"
    }
   },
   "outputs": [],
   "source": [
    "nltk.re_show('не{1,5}т', 'нт нет нееееет неееееееееееет!')"
   ]
  },
  {
   "cell_type": "code",
   "execution_count": null,
   "metadata": {
    "slideshow": {
     "slide_type": "fragment"
    }
   },
   "outputs": [],
   "source": [
    "nltk.re_show('не{1,}т', 'нт нет нееееет неееееееееееет!')"
   ]
  },
  {
   "cell_type": "code",
   "execution_count": null,
   "metadata": {
    "slideshow": {
     "slide_type": "fragment"
    }
   },
   "outputs": [],
   "source": [
    "nltk.re_show('не{,5}т', 'нт нет нееееет неееееееееееет!')"
   ]
  },
  {
   "cell_type": "markdown",
   "metadata": {
    "slideshow": {
     "slide_type": "slide"
    }
   },
   "source": [
    "## Задание 1:\n",
    "Напишите регулярное выражение, соответствующее сразу всем четырём вариантам написания e-mail. При этом в шаблоне 'mail' должно встречаться только один раз."
   ]
  },
  {
   "cell_type": "code",
   "execution_count": null,
   "metadata": {
    "slideshow": {
     "slide_type": "fragment"
    }
   },
   "outputs": [],
   "source": [
    "nltk.re_show('mail', 'Email, email, e-mail, E-mail')"
   ]
  },
  {
   "cell_type": "markdown",
   "metadata": {
    "slideshow": {
     "slide_type": "slide"
    }
   },
   "source": [
    ". - любой символ, кроме символа конца строки (\\n)"
   ]
  },
  {
   "cell_type": "code",
   "execution_count": null,
   "metadata": {
    "slideshow": {
     "slide_type": "fragment"
    }
   },
   "outputs": [],
   "source": [
    "nltk.re_show('.+', 'Internet \\n internet\\tInternet\\ninternet')"
   ]
  },
  {
   "cell_type": "markdown",
   "metadata": {
    "slideshow": {
     "slide_type": "slide"
    }
   },
   "source": [
    "## Экранированные последовательности\n",
    "Последовательность |\tНазначение\n",
    ":---:|----\n",
    "\\n\t| Перевод строки\n",
    "\\b\t| Забой\n",
    "\\f\t| Перевод страницы\n",
    "\\r\t| Возврат каретки\n",
    "\\t\t| Горизонтальная табуляция\n",
    "\\v\t| Вертикальная табуляция"
   ]
  },
  {
   "cell_type": "markdown",
   "metadata": {
    "slideshow": {
     "slide_type": "slide"
    }
   },
   "source": [
    "## Бэкслеш бедствие или обратная косая чума"
   ]
  },
  {
   "cell_type": "code",
   "execution_count": null,
   "metadata": {
    "slideshow": {
     "slide_type": "fragment"
    }
   },
   "outputs": [],
   "source": [
    "# На первый взгляд кажется, что тут всё в порядке\n",
    "path = 'C:\\\\user\\new_folder\\text.txt'\n",
    "path"
   ]
  },
  {
   "cell_type": "code",
   "execution_count": null,
   "metadata": {
    "slideshow": {
     "slide_type": "fragment"
    }
   },
   "outputs": [],
   "source": [
    "print(path) # Обратите внимание на отображение двойного слеша"
   ]
  },
  {
   "cell_type": "code",
   "execution_count": null,
   "metadata": {
    "slideshow": {
     "slide_type": "fragment"
    }
   },
   "outputs": [],
   "source": [
    "path = 'C:\\\\\\\\user\\\\new_folder\\\\text.txt' \n",
    "print(path)"
   ]
  },
  {
   "cell_type": "markdown",
   "metadata": {
    "slideshow": {
     "slide_type": "slide"
    }
   },
   "source": [
    "## Сырые строки\n",
    "Если перед открывающей кавычкой стоит символ 'r' (в любом регистре), то механизм экранирования отключается."
   ]
  },
  {
   "cell_type": "code",
   "execution_count": null,
   "metadata": {
    "slideshow": {
     "slide_type": "fragment"
    }
   },
   "outputs": [],
   "source": [
    "# На первый взгляд кажется, что тут всё в порядке\n",
    "path = r'C:\\\\user\\new_folder\\text.txt'\n",
    "path"
   ]
  },
  {
   "cell_type": "code",
   "execution_count": null,
   "metadata": {
    "slideshow": {
     "slide_type": "fragment"
    }
   },
   "outputs": [],
   "source": [
    "print(path)"
   ]
  },
  {
   "cell_type": "markdown",
   "metadata": {
    "slideshow": {
     "slide_type": "slide"
    }
   },
   "source": [
    "## Метасимволы, обозначающие символьные классы\n",
    "Символ |\tЭквивалент |\tСоответствие\n",
    ":---:|:---:|:---\n",
    "\\d |\t[0-9] |\tЦифровой символ\n",
    "\\D |\t[^0-9] |\tНецифровой символ\n",
    "\\s |\t[ \\f\\n\\r\\t\\v] |\tПробельный символ\n",
    "\\S |\t[^ \\f\\n\\r\\t\\v] |\tНепробельный символ\n",
    "\\w |\t[A-Za-z0-9\\_] |\tБуквенный или цифровой символ или знак подчёркивания\n",
    "\\W |\t[^A-Za-z0-9\\_] |\tЛюбой символ, кроме буквенного или цифрового символа или знака подчёркивания\n",
    "\n",
    "\\b - граница слова"
   ]
  },
  {
   "cell_type": "code",
   "execution_count": null,
   "metadata": {
    "slideshow": {
     "slide_type": "slide"
    }
   },
   "outputs": [],
   "source": [
    "nltk.re_show('и', 'Миша и Дима')"
   ]
  },
  {
   "cell_type": "code",
   "execution_count": null,
   "metadata": {
    "slideshow": {
     "slide_type": "fragment"
    }
   },
   "outputs": [],
   "source": [
    "nltk.re_show('\\bи\\b', 'Миша и Дима')"
   ]
  },
  {
   "cell_type": "code",
   "execution_count": null,
   "metadata": {
    "slideshow": {
     "slide_type": "fragment"
    }
   },
   "outputs": [],
   "source": [
    "nltk.re_show(r'\\bи\\b', 'Миша и Дима')"
   ]
  },
  {
   "cell_type": "markdown",
   "metadata": {
    "slideshow": {
     "slide_type": "slide"
    }
   },
   "source": [
    "## Захватывающие и незахватывающие скобки"
   ]
  },
  {
   "cell_type": "code",
   "execution_count": null,
   "metadata": {
    "scrolled": true,
    "slideshow": {
     "slide_type": "fragment"
    }
   },
   "outputs": [],
   "source": [
    "nltk.re_show(r'и \\w+', 'Мы хотим и есть, и спать!')"
   ]
  },
  {
   "cell_type": "code",
   "execution_count": null,
   "metadata": {
    "slideshow": {
     "slide_type": "fragment"
    }
   },
   "outputs": [],
   "source": [
    "re.findall(r'и \\w+', 'Мы хотим и есть, и спать!')"
   ]
  },
  {
   "cell_type": "code",
   "execution_count": null,
   "metadata": {
    "slideshow": {
     "slide_type": "fragment"
    }
   },
   "outputs": [],
   "source": [
    "nltk.re_show(r'и (\\w+)', 'Мы хотим и есть, и спать!')"
   ]
  },
  {
   "cell_type": "code",
   "execution_count": null,
   "metadata": {
    "slideshow": {
     "slide_type": "fragment"
    }
   },
   "outputs": [],
   "source": [
    "re.findall(r'и (\\w+)', 'Мы хотим и есть, и спать!')"
   ]
  },
  {
   "cell_type": "code",
   "execution_count": null,
   "metadata": {
    "slideshow": {
     "slide_type": "subslide"
    }
   },
   "outputs": [],
   "source": [
    "nltk.re_show(r'\\bc(vc)+\\b', 'c cvc cv cvcvv vcv cvvc vcv cvcvc vccv')"
   ]
  },
  {
   "cell_type": "code",
   "execution_count": null,
   "metadata": {
    "slideshow": {
     "slide_type": "fragment"
    }
   },
   "outputs": [],
   "source": [
    "re.findall(r'\\bc(vc)+\\b', 'c cvc cv cvcvv vcv cvvc vcv cvcvc vccv')"
   ]
  },
  {
   "cell_type": "code",
   "execution_count": null,
   "metadata": {
    "scrolled": true,
    "slideshow": {
     "slide_type": "fragment"
    }
   },
   "outputs": [],
   "source": [
    "re.findall(r'\\bc(?:vc)+\\b', 'c cvc cv cvcvv vcv cvvc vcv cvcvc vccv')"
   ]
  },
  {
   "cell_type": "markdown",
   "metadata": {
    "slideshow": {
     "slide_type": "slide"
    }
   },
   "source": [
    "## Флаги компиляции\n",
    "**DOTALL, S**  \n",
    ". соответствует абсолютно любому символу, включая \\n  \n",
    "**IGNORECASE, I**  \n",
    "Сопоставление без учета регистра  \n",
    "**MULTILINE, M**  \n",
    "^ - сразу за символом \\n  \n",
    "$ - перед символом \\n  \n",
    "**VERBOSE, X**  \n",
    "Включает многословные (подробные) регулярные выражения. Пробелы теперь игнорируется (кроме [] и \\ ). Также теперь можно добавить #комментарии, которые будут игнорироваться."
   ]
  },
  {
   "cell_type": "code",
   "execution_count": null,
   "metadata": {
    "scrolled": true,
    "slideshow": {
     "slide_type": "slide"
    }
   },
   "outputs": [],
   "source": [
    "nltk.re_show(r'\\bc(?:vc)+\\b', 'c cvc cv CVC Cvcvv cVc Vcv cvvc vcv cvcvc vccv')"
   ]
  },
  {
   "cell_type": "code",
   "execution_count": null,
   "metadata": {
    "scrolled": true,
    "slideshow": {
     "slide_type": "fragment"
    }
   },
   "outputs": [],
   "source": [
    "nltk.re_show(r'(?i)\\bc(?:vc)+\\b', 'c cvc cv CVC Cvcvv cVc Vcv cvvc vcv cvcvc vccv')"
   ]
  },
  {
   "cell_type": "code",
   "execution_count": null,
   "metadata": {
    "scrolled": true,
    "slideshow": {
     "slide_type": "fragment"
    }
   },
   "outputs": [],
   "source": [
    "re.findall(r'\\bc(?:vc)+\\b', 'c cvc cv CVC Cvcvv cVc Vcv cvvc vcv cvcvc vccv', re.IGNORECASE)"
   ]
  },
  {
   "cell_type": "code",
   "execution_count": null,
   "metadata": {
    "scrolled": true,
    "slideshow": {
     "slide_type": "fragment"
    }
   },
   "outputs": [],
   "source": [
    "re.findall(r'\\bc(?:vc)+\\b', 'c cvc cv CVC Cvcvv cVc Vcv cvvc vcv cvcvc vccv', re.I)"
   ]
  },
  {
   "cell_type": "code",
   "execution_count": null,
   "metadata": {
    "scrolled": true,
    "slideshow": {
     "slide_type": "slide"
    }
   },
   "outputs": [],
   "source": [
    "s = '''+7(950)1954715, 1+2 =7\n",
    "+1(456)8374650'''\n",
    "print(s)"
   ]
  },
  {
   "cell_type": "code",
   "execution_count": null,
   "metadata": {
    "scrolled": true,
    "slideshow": {
     "slide_type": "fragment"
    }
   },
   "outputs": [],
   "source": [
    "re.findall(r'^\\+\\d+', s)"
   ]
  },
  {
   "cell_type": "code",
   "execution_count": null,
   "metadata": {
    "scrolled": true,
    "slideshow": {
     "slide_type": "fragment"
    }
   },
   "outputs": [],
   "source": [
    "re.findall(r'(?m)^\\+\\d+', s)"
   ]
  },
  {
   "cell_type": "code",
   "execution_count": null,
   "metadata": {
    "scrolled": true,
    "slideshow": {
     "slide_type": "slide"
    }
   },
   "outputs": [],
   "source": [
    "text = 'That U.S.A. poster costs $12.40...'\n",
    "pattern = r'''(?x)      # устанавливаем флаг многословных re\n",
    "    (?:[A-Z]\\.)+        # аббревиатуры\n",
    "  | \\w+                 # обычные слова\n",
    "  | \\$?\\d+(?:\\.\\d+)?%?  # проценты и цены в долларах, например: $12.40, 82%\n",
    "  | \\.\\.\\.              # многоточие\n",
    "  | [][.,;\"'?():-_`]    # знаки препинания, включая ] и [\n",
    "'''\n",
    "re.findall(pattern, text)"
   ]
  },
  {
   "cell_type": "markdown",
   "metadata": {
    "slideshow": {
     "slide_type": "slide"
    }
   },
   "source": [
    "## Задание 2:\n",
    "Считайте текст романа \"Преступление и наказание\" в текстовую переменную. Найдите все слова, оканчивающиеся на \"ть\"."
   ]
  },
  {
   "cell_type": "code",
   "execution_count": null,
   "metadata": {
    "scrolled": true,
    "slideshow": {
     "slide_type": "fragment"
    }
   },
   "outputs": [],
   "source": []
  },
  {
   "cell_type": "markdown",
   "metadata": {
    "slideshow": {
     "slide_type": "slide"
    }
   },
   "source": [
    "## Задание 3:\n",
    "Найдите все слова, написанные через дефис. Причём дефисов может быть несколько."
   ]
  },
  {
   "cell_type": "code",
   "execution_count": null,
   "metadata": {
    "slideshow": {
     "slide_type": "fragment"
    }
   },
   "outputs": [],
   "source": []
  },
  {
   "cell_type": "markdown",
   "metadata": {
    "slideshow": {
     "slide_type": "slide"
    }
   },
   "source": [
    "## Задание 4:\n",
    "Напишите регулярное выражение, которое найдёт все слова, написанные с заглавной буквы, кроме тех, что стоят в начале предложения."
   ]
  },
  {
   "cell_type": "code",
   "execution_count": null,
   "metadata": {},
   "outputs": [],
   "source": []
  },
  {
   "cell_type": "markdown",
   "metadata": {
    "slideshow": {
     "slide_type": "slide"
    }
   },
   "source": [
    "## Задание 5:\n",
    "Найдите все слова, в которых встречаются 2 и более гласных подряд. "
   ]
  },
  {
   "cell_type": "code",
   "execution_count": null,
   "metadata": {
    "slideshow": {
     "slide_type": "fragment"
    }
   },
   "outputs": [],
   "source": []
  },
  {
   "cell_type": "code",
   "execution_count": null,
   "metadata": {
    "collapsed": true
   },
   "outputs": [],
   "source": []
  }
 ],
 "metadata": {
  "celltoolbar": "Slideshow",
  "kernelspec": {
   "display_name": "Python 3",
   "language": "python",
   "name": "python3"
  },
  "language_info": {
   "codemirror_mode": {
    "name": "ipython",
    "version": 3
   },
   "file_extension": ".py",
   "mimetype": "text/x-python",
   "name": "python",
   "nbconvert_exporter": "python",
   "pygments_lexer": "ipython3",
   "version": "3.6.1"
  }
 },
 "nbformat": 4,
 "nbformat_minor": 2
}
